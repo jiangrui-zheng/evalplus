{
 "cells": [
  {
   "cell_type": "code",
   "execution_count": 2,
   "id": "initial_id",
   "metadata": {
    "ExecuteTime": {
     "end_time": "2024-02-23T00:40:38.281118540Z",
     "start_time": "2024-02-23T00:40:38.270238337Z"
    }
   },
   "outputs": [
    {
     "data": {
      "application/vnd.jupyter.widget-view+json": {
       "model_id": "90f7c0d8466849eca2679f8e2d95afa4",
       "version_major": 2,
       "version_minor": 0
      },
      "text/plain": [
       "Downloading readme:   0%|          | 0.00/7.55k [00:00<?, ?B/s]"
      ]
     },
     "metadata": {},
     "output_type": "display_data"
    },
    {
     "name": "stdout",
     "output_type": "stream",
     "text": [
      "Downloading and preparing dataset None/None to /data/jzheng36/huggingface/datasets/wellesley-easel___parquet/wellesley-easel--StudentEval-5bf639f545cbfdea/0.0.0/14a00e99c0d15a23649d0db8944380ac81082d4b021f398733dd84f3a6c569a7...\n"
     ]
    },
    {
     "data": {
      "application/vnd.jupyter.widget-view+json": {
       "model_id": "5aed54d1aa0048a5b8b338861467b347",
       "version_major": 2,
       "version_minor": 0
      },
      "text/plain": [
       "Downloading data files:   0%|          | 0/1 [00:00<?, ?it/s]"
      ]
     },
     "metadata": {},
     "output_type": "display_data"
    },
    {
     "data": {
      "application/vnd.jupyter.widget-view+json": {
       "model_id": "792df1846923488e907ef3f76fec094d",
       "version_major": 2,
       "version_minor": 0
      },
      "text/plain": [
       "Downloading data:   0%|          | 0.00/435k [00:00<?, ?B/s]"
      ]
     },
     "metadata": {},
     "output_type": "display_data"
    },
    {
     "data": {
      "application/vnd.jupyter.widget-view+json": {
       "model_id": "0351ac3dd28c4204a7086f8b419682d2",
       "version_major": 2,
       "version_minor": 0
      },
      "text/plain": [
       "Extracting data files:   0%|          | 0/1 [00:00<?, ?it/s]"
      ]
     },
     "metadata": {},
     "output_type": "display_data"
    },
    {
     "data": {
      "application/vnd.jupyter.widget-view+json": {
       "model_id": "",
       "version_major": 2,
       "version_minor": 0
      },
      "text/plain": [
       "Generating test split:   0%|          | 0/1749 [00:00<?, ? examples/s]"
      ]
     },
     "metadata": {},
     "output_type": "display_data"
    },
    {
     "name": "stdout",
     "output_type": "stream",
     "text": [
      "Dataset parquet downloaded and prepared to /data/jzheng36/huggingface/datasets/wellesley-easel___parquet/wellesley-easel--StudentEval-5bf639f545cbfdea/0.0.0/14a00e99c0d15a23649d0db8944380ac81082d4b021f398733dd84f3a6c569a7. Subsequent calls will reuse this data.\n"
     ]
    },
    {
     "data": {
      "application/vnd.jupyter.widget-view+json": {
       "model_id": "1d369e72559e453aa068563f5b4a442a",
       "version_major": 2,
       "version_minor": 0
      },
      "text/plain": [
       "  0%|          | 0/1 [00:00<?, ?it/s]"
      ]
     },
     "metadata": {},
     "output_type": "display_data"
    },
    {
     "data": {
      "text/plain": [
       "DatasetDict({\n",
       "    test: Dataset({\n",
       "        features: ['problem', 'entrypoint', 'assertions', 'prints', 'username', 'submitted_text', 'tests_passed', 'total_tests', 'prompt', 'completion', 'first_attempt', 'last_attempt', 'is_success', 'is_first_success', 'is_last_success', 'is_first_failure', 'is_last_failure'],\n",
       "        num_rows: 1749\n",
       "    })\n",
       "})"
      ]
     },
     "execution_count": 2,
     "metadata": {},
     "output_type": "execute_result"
    }
   ],
   "source": [
    "from datasets import load_dataset\n",
    "\n",
    "dataset = load_dataset(\"wellesley-easel/StudentEval\")\n",
    "dataset"
   ]
  },
  {
   "cell_type": "code",
   "execution_count": 3,
   "id": "0053f40a",
   "metadata": {
    "ExecuteTime": {
     "end_time": "2024-02-24T20:41:18.112087Z",
     "start_time": "2024-02-24T20:41:18.050114Z"
    }
   },
   "outputs": [],
   "source": [
    "test_dataset = dataset['test']\n",
    "\n",
    "transformed_data = [\n",
    "    {\n",
    "        **row,\n",
    "        'entry_point': row.pop('entrypoint'),\n",
    "        'test': row.pop('assertions'),\n",
    "        'canonical_solution': row.pop('completion'),\n",
    "        'task_id': i\n",
    "    }\n",
    "    for i, row in enumerate(dataset['test'])\n",
    "]\n",
    "\n",
    "\n"
   ]
  },
  {
   "cell_type": "code",
   "execution_count": 4,
   "id": "3d0417e7",
   "metadata": {},
   "outputs": [],
   "source": [
    "import json\n",
    "\n",
    "jsonl_path = 'StudentEval.jsonl'\n",
    "\n",
    "with open(jsonl_path, 'w', encoding='utf-8') as file:\n",
    "    for item in transformed_data:\n",
    "        json_str = json.dumps(item)\n",
    "        file.write(json_str + '\\n')\n",
    "import gzip\n",
    "import shutil\n",
    "jsonl_gz_path = 'StudentEval.jsonl.gz'\n",
    "\n",
    "with open(jsonl_path, 'rb') as f_in:\n",
    "    with gzip.open(jsonl_gz_path, 'wb') as f_out:\n",
    "        shutil.copyfileobj(f_in, f_out)\n",
    "\n"
   ]
  },
  {
   "cell_type": "code",
   "execution_count": null,
   "id": "48a0090b",
   "metadata": {},
   "outputs": [],
   "source": []
  }
 ],
 "metadata": {
  "kernelspec": {
   "display_name": "Python 3 (ipykernel)",
   "language": "python",
   "name": "python3"
  },
  "language_info": {
   "codemirror_mode": {
    "name": "ipython",
    "version": 3
   },
   "file_extension": ".py",
   "mimetype": "text/x-python",
   "name": "python",
   "nbconvert_exporter": "python",
   "pygments_lexer": "ipython3",
   "version": "3.7.5"
  }
 },
 "nbformat": 4,
 "nbformat_minor": 5
}
