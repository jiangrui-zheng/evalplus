{
 "cells": [
  {
   "cell_type": "code",
   "execution_count": 1,
   "id": "initial_id",
   "metadata": {
    "ExecuteTime": {
     "end_time": "2024-02-23T00:40:38.281118540Z",
     "start_time": "2024-02-23T00:40:38.270238337Z"
    }
   },
   "outputs": [
    {
     "data": {
      "text/plain": [
       "DatasetDict({\n",
       "    test: Dataset({\n",
       "        features: ['problem', 'entrypoint', 'assertions', 'prints', 'username', 'submitted_text', 'tests_passed', 'total_tests', 'prompt', 'completion', 'first_attempt', 'last_attempt', 'is_success', 'is_first_success', 'is_last_success', 'is_first_failure', 'is_last_failure'],\n",
       "        num_rows: 1749\n",
       "    })\n",
       "})"
      ]
     },
     "execution_count": 1,
     "metadata": {},
     "output_type": "execute_result"
    }
   ],
   "source": [
    "from datasets import load_dataset\n",
    "\n",
    "dataset = load_dataset(\"wellesley-easel/StudentEval\")\n",
    "dataset"
   ]
  },
  {
   "cell_type": "code",
   "execution_count": 4,
   "id": "0053f40a",
   "metadata": {},
   "outputs": [],
   "source": [
    "test_dataset = dataset['test']\n",
    "\n",
    "transformed_data = []\n",
    "\n",
    "for i, row in enumerate(test_dataset):\n",
    "    transformed_row = row.copy()\n",
    "\n",
    "    transformed_row['entry_point'] = transformed_row.pop('entrypoint')\n",
    "    transformed_row['test'] = transformed_row.pop('assertions')\n",
    "\n",
    "    transformed_row['task_id'] = i\n",
    "    transformed_data.append(transformed_row)\n",
    "\n"
   ]
  },
  {
   "cell_type": "code",
   "execution_count": 5,
   "id": "3d0417e7",
   "metadata": {},
   "outputs": [],
   "source": [
    "import json\n",
    "\n",
    "jsonl_path = 'StudentEval.jsonl'\n",
    "\n",
    "with open(jsonl_path, 'w', encoding='utf-8') as file:\n",
    "    for item in transformed_data:\n",
    "        json_str = json.dumps(item)\n",
    "        file.write(json_str + '\\n')\n",
    "import gzip\n",
    "import shutil\n",
    "jsonl_gz_path = 'StudentEval.jsonl.gz'\n",
    "\n",
    "with open(jsonl_path, 'rb') as f_in:\n",
    "    with gzip.open(jsonl_gz_path, 'wb') as f_out:\n",
    "        shutil.copyfileobj(f_in, f_out)\n",
    "\n"
   ]
  },
  {
   "cell_type": "code",
   "execution_count": null,
   "id": "48a0090b",
   "metadata": {},
   "outputs": [],
   "source": []
  }
 ],
 "metadata": {
  "kernelspec": {
   "display_name": "Python 3 (ipykernel)",
   "language": "python",
   "name": "python3"
  },
  "language_info": {
   "codemirror_mode": {
    "name": "ipython",
    "version": 3
   },
   "file_extension": ".py",
   "mimetype": "text/x-python",
   "name": "python",
   "nbconvert_exporter": "python",
   "pygments_lexer": "ipython3",
   "version": "3.9.0"
  }
 },
 "nbformat": 4,
 "nbformat_minor": 5
}
